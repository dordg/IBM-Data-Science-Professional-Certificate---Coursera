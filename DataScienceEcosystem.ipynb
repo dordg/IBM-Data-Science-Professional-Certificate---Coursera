{
 "cells": [
  {
   "cell_type": "markdown",
   "metadata": {},
   "source": [
    "<center>\n",
    "    <img src=\"https://cf-courses-data.s3.us.cloud-object-storage.appdomain.cloud/IBMDeveloperSkillsNetwork-DS0105EN-SkillsNetwork/labs/Module2/images/SN_web_lightmode.png\" width=\"300\" alt=\"cognitiveclass.ai logo\">\n",
    "</center>\n"
   ]
  },
  {
   "cell_type": "markdown",
   "metadata": {},
   "source": [
    "# Data Science Tools and Ecosystem"
   ]
  },
  {
   "cell_type": "markdown",
   "metadata": {},
   "source": [
    "In this notebook, Data Science Tools and Ecosystem are summarized."
   ]
  },
  {
   "cell_type": "markdown",
   "metadata": {},
   "source": [
    "**Objectives:**\n",
    "\n",
    "- List programming languages used in Data Science\n",
    "- List commonly used libraries\n",
    "- List open source dev tools\n",
    "- Demonstrate proficiency in Markdown and JupyterLab\n",
    "- Dabble in Python"
   ]
  },
  {
   "cell_type": "markdown",
   "metadata": {},
   "source": [
    "---"
   ]
  },
  {
   "cell_type": "markdown",
   "metadata": {},
   "source": [
    "## Data Science Programming Languages\n",
    "\n",
    "Some of the popular languages that Data Scientists use are:\n",
    "\n",
    "1. Python\n",
    "2. R\n",
    "3. SQL\n",
    "\n",
    "As well as:\n",
    "\n",
    "4. Scala\n",
    "5. Java\n",
    "6. C++\n",
    "7. Julia\n",
    "\n",
    "And for unique use cases:\n",
    "\n",
    "8. JavaScript\n",
    "9. PHP\n",
    "10. Go\n",
    "11. Ruby\n",
    "12. Visual Basic "
   ]
  },
  {
   "cell_type": "markdown",
   "metadata": {},
   "source": [
    "---"
   ]
  },
  {
   "cell_type": "markdown",
   "metadata": {},
   "source": [
    "## Commonly Used Libraries:\n",
    "\n",
    "Some of the commonly used libraries used by Data Scientists include:\n",
    "\n",
    "**Scientifics Computing Libraries:**\n",
    "\n",
    "1. Pandas (Python) - Data manipulation, cleaning, and analysis with DataFrame structures.\n",
    "2. NumPy (Python) - Mathematical operations on arrays and matrices.\n",
    "\n",
    "**Visualization Libraries:**\n",
    "\n",
    "3. Matplotlib (Python) - Creating customizable graphs and plots for data visualization.\n",
    "4. Seaborn (Python) - High-level data visualization (e.g., heat maps, time series, violin plots).\n",
    "5. ggplot2 (R) - Data visualization, creating elegant and complex graphics.\n",
    "\n",
    "\n",
    "**Machine Learning & Deep Learning Libraries:**\n",
    "\n",
    "6. Scikit-learn (Python) - Machine learning, statistical modeling (regression, classification, clustering).\n",
    "7. Keras (Python, R) - High-level deep learning model development.\n",
    "8. TensorFlow (Python, R) - Low-level framework for large-scale production and deployment of deep learning models.\n",
    "9. PyTorch (Python) - Experimentation-focused deep learning model development.\n",
    "\n",
    "**Apache Spark and Complementary Libraries:**\n",
    "\n",
    "10. Apache Spark (Python, R, Scala, SQL) - Distributed data processing and analysis on compute clusters.\n",
    "11. Vegas (Scala) - Statistical data visualization.\n",
    "12. BigDL (Scala) - Deep learning library for use with Spark."
   ]
  },
  {
   "cell_type": "markdown",
   "metadata": {},
   "source": [
    "---"
   ]
  },
  {
   "cell_type": "markdown",
   "metadata": {},
   "source": [
    "## Data Science Tools:\n",
    "\n",
    "| Data Science Tools|\n",
    "|-------------------|\n",
    "| Git |\n",
    "| JupyterLab |\n",
    "| Spyder |\n"
   ]
  },
  {
   "cell_type": "markdown",
   "metadata": {},
   "source": [
    "---"
   ]
  },
  {
   "cell_type": "markdown",
   "metadata": {},
   "source": [
    "### Arithmetic Expressions in Python\n",
    "\n",
    "Below are a few examples of evaluating arithmetic expressions in Python."
   ]
  },
  {
   "cell_type": "code",
   "execution_count": 1,
   "metadata": {},
   "outputs": [
    {
     "data": {
      "text/plain": [
       "17"
      ]
     },
     "execution_count": 1,
     "metadata": {},
     "output_type": "execute_result"
    }
   ],
   "source": [
    "# This a simple arithmetic expression to multiply then add integers:\n",
    "\n",
    "(3 * 4) + 5"
   ]
  },
  {
   "cell_type": "code",
   "execution_count": 2,
   "metadata": {},
   "outputs": [
    {
     "name": "stdout",
     "output_type": "stream",
     "text": [
      "200 minutes is 3.33 hours.\n"
     ]
    }
   ],
   "source": [
    "def convert_minutes_to_hours(minutes: int) -> float:\n",
    "    \"\"\"\n",
    "    Converts minutes to hours by dividing by 60.\n",
    "    Args:\n",
    "        minutes: \n",
    "\n",
    "    Returns:\n",
    "\n",
    "    \"\"\"\n",
    "    return minutes / 60\n",
    "\n",
    "\n",
    "minutes = 200\n",
    "\n",
    "# Round to keep the precision to 2 floating points\n",
    "print(f\"{minutes} minutes is \\\n",
    "{round(convert_minutes_to_hours(minutes), 2)} hours.\")"
   ]
  },
  {
   "cell_type": "markdown",
   "metadata": {},
   "source": [
    "---"
   ]
  },
  {
   "cell_type": "markdown",
   "metadata": {},
   "source": [
    "## Author\n",
    "\n",
    "Dor Goldreer"
   ]
  }
 ],
 "metadata": {
  "kernelspec": {
   "display_name": "Python 3 (ipykernel)",
   "language": "python",
   "name": "python3"
  },
  "language_info": {
   "codemirror_mode": {
    "name": "ipython",
    "version": 3
   },
   "file_extension": ".py",
   "mimetype": "text/x-python",
   "name": "python",
   "nbconvert_exporter": "python",
   "pygments_lexer": "ipython3",
   "version": "3.12.8"
  }
 },
 "nbformat": 4,
 "nbformat_minor": 4
}
